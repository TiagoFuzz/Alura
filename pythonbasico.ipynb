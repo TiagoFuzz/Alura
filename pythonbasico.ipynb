{
 "cells": [
  {
   "cell_type": "code",
   "execution_count": null,
   "id": "772368fd",
   "metadata": {},
   "outputs": [],
   "source": [
    "#Função input para que o usuário insira informações"
   ]
  },
  {
   "cell_type": "code",
   "execution_count": null,
   "id": "ac0d5301",
   "metadata": {},
   "outputs": [],
   "source": [
    "def saudação():\n",
    "    nome = input('Qual é o seu nome?')\n",
    "    print(f'Olá {nome}')"
   ]
  },
  {
   "cell_type": "code",
   "execution_count": null,
   "id": "8ad7dc85",
   "metadata": {},
   "outputs": [],
   "source": [
    "saudação()"
   ]
  },
  {
   "cell_type": "code",
   "execution_count": null,
   "id": "1e9062fa",
   "metadata": {},
   "outputs": [],
   "source": [
    "#Usando 2 funções concatenando resultados"
   ]
  },
  {
   "cell_type": "code",
   "execution_count": null,
   "id": "58271a4f",
   "metadata": {
    "scrolled": true
   },
   "outputs": [],
   "source": [
    "def nome_completo():\n",
    " primeiro_nome = input('Qual seu primeiro nome? ')\n",
    " sobrenome = input('Qual seu sobrenome? ')\n",
    " nome_inteiro = primeiro_nome + ' ' + sobrenome\n",
    " print(nome_inteiro)\n",
    "\n",
    "nome_completo()"
   ]
  },
  {
   "cell_type": "code",
   "execution_count": null,
   "id": "e632cd27",
   "metadata": {},
   "outputs": [],
   "source": [
    "#Aula 2"
   ]
  },
  {
   "cell_type": "code",
   "execution_count": null,
   "id": "a7a6ca5f",
   "metadata": {},
   "outputs": [],
   "source": [
    "nome = 'Maiza'"
   ]
  },
  {
   "cell_type": "code",
   "execution_count": null,
   "id": "445f94cd",
   "metadata": {},
   "outputs": [],
   "source": [
    "def saudação_com_parametros(nome_da_pessoa):\n",
    "    print(f'Olá {nome_da_pessoa}')"
   ]
  },
  {
   "cell_type": "code",
   "execution_count": null,
   "id": "a3156c76",
   "metadata": {
    "scrolled": true
   },
   "outputs": [],
   "source": [
    "saudação_com_parametros(nome)"
   ]
  },
  {
   "cell_type": "code",
   "execution_count": null,
   "id": "7343fe51",
   "metadata": {},
   "outputs": [],
   "source": [
    "#Condicionais"
   ]
  },
  {
   "cell_type": "code",
   "execution_count": 1,
   "id": "86659247",
   "metadata": {},
   "outputs": [],
   "source": [
    "idade = 36\n",
    "\n",
    "def verifica_se_pode_dirigir(idade):\n",
    "    if idade >= 18:\n",
    "        print('Tem permissâo para habilitação')\n",
    "    else:\n",
    "        print('Não pode tirar habilitação')"
   ]
  },
  {
   "cell_type": "code",
   "execution_count": null,
   "id": "2d641f0c",
   "metadata": {},
   "outputs": [],
   "source": [
    "#Trabalhando com condicionais, com input do usuário"
   ]
  },
  {
   "cell_type": "code",
   "execution_count": 3,
   "id": "50c25b8d",
   "metadata": {},
   "outputs": [],
   "source": [
    "def verica_se_pode_dirigir_sem_parametros(idade):\n",
    "    idade = input('Qual é a sua idade?')\n",
    "    idade = int(idade)\n",
    "    if idade >= 18:\n",
    "        print('Tem permissâo para habilitação')\n",
    "    else:\n",
    "        print('Não pode tirar habilitação')"
   ]
  }
 ],
 "metadata": {
  "kernelspec": {
   "display_name": "Python 3 (ipykernel)",
   "language": "python",
   "name": "python3"
  },
  "language_info": {
   "codemirror_mode": {
    "name": "ipython",
    "version": 3
   },
   "file_extension": ".py",
   "mimetype": "text/x-python",
   "name": "python",
   "nbconvert_exporter": "python",
   "pygments_lexer": "ipython3",
   "version": "3.10.6"
  }
 },
 "nbformat": 4,
 "nbformat_minor": 5
}
